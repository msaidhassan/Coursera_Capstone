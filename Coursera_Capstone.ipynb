{
 "cells": [
  {
   "cell_type": "markdown",
   "metadata": {},
   "source": [
    "## Coursera Capstone\n",
    "### The Mission\n",
    "My mission is to find the best locations to open a new chain of Pet Cafés in the state of Connecticut. I'll be looking for parts of the state with high levels of pet ownership, as well as parts that are under represented in terms of pet shops. We're not really a pet shop, although you can certainly purchase pet supplies at our stores. What we really are is imagine Spot Coffee, the chain found in the Buffalo NY area, funky, artisitic, hip, but with pets. Yes, taht's right, you can enjoy a cup of your favorite coffee or tea, munch on a croissant, and have fun with your pet while socializing with other pet owners. It's a great way to meet other people who share a love of pets."
   ]
  },
  {
   "cell_type": "code",
   "execution_count": 3,
   "metadata": {},
   "outputs": [
    {
     "name": "stdout",
     "output_type": "stream",
     "text": [
      "Hello Capstone Project Course!\n"
     ]
    }
   ],
   "source": [
    "import pandas as pd\n",
    "import numpy  as np\n",
    "print(\"Hello Capstone Project Course!\")"
   ]
  }
 ],
 "metadata": {
  "kernelspec": {
   "display_name": "Python 3",
   "language": "python",
   "name": "python3"
  },
  "language_info": {
   "codemirror_mode": {
    "name": "ipython",
    "version": 3
   },
   "file_extension": ".py",
   "mimetype": "text/x-python",
   "name": "python",
   "nbconvert_exporter": "python",
   "pygments_lexer": "ipython3",
   "version": "3.8.5"
  }
 },
 "nbformat": 4,
 "nbformat_minor": 4
}
